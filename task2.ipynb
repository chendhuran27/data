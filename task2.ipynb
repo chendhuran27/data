{
 "cells": [
  {
   "cell_type": "code",
   "execution_count": 20,
   "id": "93f207c2-3b12-4f15-8d52-66934ff5844e",
   "metadata": {},
   "outputs": [
    {
     "name": "stdout",
     "output_type": "stream",
     "text": [
      " The product of 12 and 43 is:516\n"
     ]
    }
   ],
   "source": [
    "def mupltiply(a,c):\n",
    "    return a*c\n",
    "\n",
    "my_list1=12\n",
    "my_list2=43\n",
    "product=multiply(my_list1,my_list2)\n",
    "print(f\" The product of {my_list1} and {my_list2} is:{product}\")\n",
    "\n"
   ]
  },
  {
   "cell_type": "code",
   "execution_count": null,
   "id": "30ecb5b3-7357-4018-a136-2e5466b64359",
   "metadata": {},
   "outputs": [],
   "source": []
  }
 ],
 "metadata": {
  "kernelspec": {
   "display_name": "Python 3 (ipykernel)",
   "language": "python",
   "name": "python3"
  },
  "language_info": {
   "codemirror_mode": {
    "name": "ipython",
    "version": 3
   },
   "file_extension": ".py",
   "mimetype": "text/x-python",
   "name": "python",
   "nbconvert_exporter": "python",
   "pygments_lexer": "ipython3",
   "version": "3.13.3"
  }
 },
 "nbformat": 4,
 "nbformat_minor": 5
}
